{
 "cells": [
  {
   "cell_type": "code",
   "execution_count": 1,
   "metadata": {},
   "outputs": [
    {
     "data": {
      "text/plain": [
       "'/Users/melihaltin/Documents/Development/data-science/Lung-Cancer/Lung-Cancer/research'"
      ]
     },
     "execution_count": 1,
     "metadata": {},
     "output_type": "execute_result"
    }
   ],
   "source": [
    "%pwd"
   ]
  },
  {
   "cell_type": "code",
   "execution_count": 2,
   "metadata": {},
   "outputs": [],
   "source": [
    "import os "
   ]
  },
  {
   "cell_type": "code",
   "execution_count": 3,
   "metadata": {},
   "outputs": [],
   "source": [
    "os.chdir('../')"
   ]
  },
  {
   "cell_type": "code",
   "execution_count": 4,
   "metadata": {},
   "outputs": [],
   "source": [
    "from dataclasses import dataclass\n",
    "from pathlib import Path\n",
    "\n",
    "\n",
    "@dataclass(frozen=True)\n",
    "class DataTransformationConfig:\n",
    "    root_dir: Path\n",
    "    data_file: Path\n",
    "    transformed_data_file: Path"
   ]
  },
  {
   "cell_type": "code",
   "execution_count": 5,
   "metadata": {},
   "outputs": [],
   "source": [
    "from Lung_Cancer.constants import *\n",
    "from Lung_Cancer.utils.common import read_yaml , create_directories\n",
    "\n",
    "\n",
    "class ConfigurationManager:\n",
    "    def __init__(\n",
    "        self,\n",
    "        config_filepath = CONFIG_FILE_PATH,\n",
    "        params_filepath = PARAMS_FILE_PATH,\n",
    "        schema_filepath = SCHEMA_FILE_PATH):\n",
    "\n",
    "        self.config = read_yaml(config_filepath)\n",
    "        self.params = read_yaml(params_filepath)\n",
    "        self.schema = read_yaml(schema_filepath)\n",
    "\n",
    "        create_directories([self.config.artifacts_root])\n",
    "\n",
    "\n",
    "    \n",
    "    def get_data_transformation_config(self):\n",
    "        self.config = self.config.data_transformation\n",
    "        \n",
    "        create_directories([self.config.root_dir])\n",
    "        config = DataTransformationConfig(\n",
    "            root_dir = Path(self.config.root_dir),\n",
    "            data_file = Path(self.config.data_file),\n",
    "            transformed_data_file = Path(self.config.transformed_data_file)\n",
    "        )\n",
    "        return config\n",
    "    \n",
    "        "
   ]
  },
  {
   "cell_type": "code",
   "execution_count": 6,
   "metadata": {},
   "outputs": [],
   "source": [
    "from Lung_Cancer.logging import logger\n",
    "import pandas as pd\n",
    "from sklearn.preprocessing import LabelEncoder\n",
    "from imblearn.over_sampling import SMOTE\n",
    "from sklearn.model_selection import train_test_split\n",
    "from sklearn.preprocessing import StandardScaler"
   ]
  },
  {
   "cell_type": "code",
   "execution_count": 7,
   "metadata": {},
   "outputs": [],
   "source": [
    "class DataTransformation:\n",
    "    def __init__(self, config):\n",
    "        self.config = config\n",
    "        self.data = None\n",
    "\n",
    "    def load_data(self):\n",
    "        logger.info(f\"Loading data from {self.config.data_file}\")\n",
    "        self.data = pd.read_csv(self.config.data_file)\n",
    "        logger.info(\"Data loaded successfully\")\n",
    "        return self.data\n",
    "\n",
    "    def transform_data(self):\n",
    "        logger.info(\"Transforming data\")\n",
    "        self.data.drop_duplicates(inplace=True)\n",
    "        \n",
    "        \n",
    "\n",
    "        encoder = LabelEncoder()\n",
    "        self.data['LUNG_CANCER'] = encoder.fit_transform(self.data['LUNG_CANCER'])\n",
    "        self.data['GENDER'] = encoder.fit_transform(self.data['GENDER'])\n",
    "    \n",
    "    \n",
    "        X = self.data.drop(['LUNG_CANCER'],axis=1)\n",
    "        y = self.data['LUNG_CANCER']\n",
    "        \n",
    "        \n",
    "        smote = SMOTE()\n",
    "        X_smote,y_smote = smote.fit_resample(X,y)\n",
    "        X_train,X_test,y_train,y_test = train_test_split(X_smote,y_smote,random_state=42,stratify=y_smote)\n",
    "        \n",
    "        scaler=StandardScaler()\n",
    "        X_train['AGE']=scaler.fit_transform(X_train[['AGE']])\n",
    "        X_test['AGE']=scaler.transform(X_test[['AGE']])\n",
    "        \n",
    "        train = pd.concat([X_train,y_train],axis=1)\n",
    "        test = pd.concat([X_test,y_test],axis=1)\n",
    "        \n",
    "        logger.info(\"Data transformed successfully\")\n",
    "        return train,test\n",
    "\n",
    "    def save_data(self):\n",
    "        logger.info(f\"Saving data to {self.config.root_dir}\")\n",
    "        train , test = self.transform_data()\n",
    "        train.to_csv(self.config.root_dir / \"train.csv\", index=False)\n",
    "        test.to_csv(self.config.root_dir / \"test.csv\", index=False)\n",
    "        logger.info(\"Data saved successfully\")\n",
    "\n",
    "    def run(self):\n",
    "        self.load_data()\n",
    "        self.transform_data()\n",
    "        self.save_data()"
   ]
  },
  {
   "cell_type": "code",
   "execution_count": 8,
   "metadata": {},
   "outputs": [
    {
     "name": "stdout",
     "output_type": "stream",
     "text": [
      "[2024-04-22 14:21:11,267]- Lung_Cancer.logging - INFO - yaml file: config/config.yaml loaded successfully\n",
      "[2024-04-22 14:21:11,269]- Lung_Cancer.logging - INFO - yaml file: params.yaml loaded successfully\n",
      "[2024-04-22 14:21:11,270]- Lung_Cancer.logging - INFO - yaml file: schema.yaml loaded successfully\n",
      "[2024-04-22 14:21:11,271]- Lung_Cancer.logging - INFO - created directory at: artifacts\n",
      "[2024-04-22 14:21:11,272]- Lung_Cancer.logging - INFO - created directory at: artifacts/data_transformation\n",
      "[2024-04-22 14:21:11,272]- Lung_Cancer.logging - INFO - Loading data from artifacts/data_ingestion/survey lung cancer.csv\n",
      "[2024-04-22 14:21:11,275]- Lung_Cancer.logging - INFO - Data loaded successfully\n",
      "[2024-04-22 14:21:11,275]- Lung_Cancer.logging - INFO - Transforming data\n",
      "[2024-04-22 14:21:11,283]- Lung_Cancer.logging - INFO - Data transformed successfully\n",
      "[2024-04-22 14:21:11,284]- Lung_Cancer.logging - INFO - Saving data to artifacts/data_transformation\n",
      "[2024-04-22 14:21:11,286]- Lung_Cancer.logging - INFO - Transforming data\n",
      "[2024-04-22 14:21:11,296]- Lung_Cancer.logging - INFO - Data transformed successfully\n",
      "[2024-04-22 14:21:11,300]- Lung_Cancer.logging - INFO - Data saved successfully\n"
     ]
    }
   ],
   "source": [
    "try:\n",
    "    config = ConfigurationManager()\n",
    "    data_transformation_config = config.get_data_transformation_config()\n",
    "    data_transformation_config = DataTransformation(data_transformation_config)\n",
    "    data_transformation_config.run()\n",
    "except Exception as e:\n",
    "    logger.error(e)"
   ]
  },
  {
   "cell_type": "code",
   "execution_count": null,
   "metadata": {},
   "outputs": [],
   "source": []
  }
 ],
 "metadata": {
  "kernelspec": {
   "display_name": "test",
   "language": "python",
   "name": "python3"
  },
  "language_info": {
   "codemirror_mode": {
    "name": "ipython",
    "version": 3
   },
   "file_extension": ".py",
   "mimetype": "text/x-python",
   "name": "python",
   "nbconvert_exporter": "python",
   "pygments_lexer": "ipython3",
   "version": "3.12.2"
  }
 },
 "nbformat": 4,
 "nbformat_minor": 2
}
