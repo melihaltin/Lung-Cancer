{
 "cells": [
  {
   "cell_type": "code",
   "execution_count": 1,
   "metadata": {},
   "outputs": [
    {
     "data": {
      "text/plain": [
       "'/Users/melihaltin/Documents/Development/data-science/Lung-Cancer/Lung-Cancer/research'"
      ]
     },
     "execution_count": 1,
     "metadata": {},
     "output_type": "execute_result"
    }
   ],
   "source": [
    "%pwd"
   ]
  },
  {
   "cell_type": "code",
   "execution_count": 2,
   "metadata": {},
   "outputs": [],
   "source": [
    "import os "
   ]
  },
  {
   "cell_type": "code",
   "execution_count": 3,
   "metadata": {},
   "outputs": [],
   "source": [
    "os.chdir('../')"
   ]
  },
  {
   "cell_type": "code",
   "execution_count": 4,
   "metadata": {},
   "outputs": [],
   "source": [
    "from dataclasses import dataclass\n",
    "from pathlib import Path\n",
    "\n",
    "\n",
    "@dataclass(frozen=True)\n",
    "class ModelTrainingConfig:\n",
    "    root_dir: Path\n",
    "    train_data: Path"
   ]
  },
  {
   "cell_type": "code",
   "execution_count": 16,
   "metadata": {},
   "outputs": [],
   "source": [
    "from Lung_Cancer.constants import *\n",
    "from Lung_Cancer.utils.common import read_yaml , create_directories\n",
    "\n",
    "\n",
    "class ConfigurationManager:\n",
    "    def __init__(\n",
    "        self,\n",
    "        config_filepath = CONFIG_FILE_PATH,\n",
    "        params_filepath = PARAMS_FILE_PATH,\n",
    "        schema_filepath = SCHEMA_FILE_PATH):\n",
    "\n",
    "        self.config = read_yaml(config_filepath)\n",
    "        self.params = read_yaml(params_filepath)\n",
    "        self.schema = read_yaml(schema_filepath)\n",
    "\n",
    "        create_directories([self.config.artifacts_root])\n",
    "\n",
    "\n",
    "    \n",
    "    def get_model_training_config(self):\n",
    "        self.config = self.config.model_training\n",
    "        \n",
    "        create_directories([self.config.root_dir])\n",
    "        return ModelTrainingConfig(\n",
    "            root_dir = Path(self.config.root_dir),\n",
    "            train_data = Path(self.config.train_data),\n",
    "        )\n",
    "    \n",
    "        "
   ]
  },
  {
   "cell_type": "code",
   "execution_count": 6,
   "metadata": {},
   "outputs": [],
   "source": [
    "import pandas as pd \n",
    "from sklearn.ensemble import RandomForestClassifier\n",
    "import joblib"
   ]
  },
  {
   "cell_type": "code",
   "execution_count": 14,
   "metadata": {},
   "outputs": [],
   "source": [
    "class ModelTrainer:\n",
    "    def __init__(self, config):\n",
    "        self.config = config\n",
    "        self.model_training_config = config.get_model_training_config()\n",
    "        self.train_data = self.model_training_config.train_data\n",
    "\n",
    "    def train(self):\n",
    "        train_df = pd.read_csv(self.train_data)\n",
    "     \n",
    "        X_train, y_train = train_df.drop('LUNG_CANCER', axis=1), train_df['LUNG_CANCER']\n",
    "        \n",
    "        \n",
    "        model = RandomForestClassifier()\n",
    "        model.fit(X_train, y_train)\n",
    "        \n",
    "        return model\n",
    "    \n",
    "    def save_model(self, model):\n",
    "        model_path = self.model_training_config.root_dir / 'model.joblib'\n",
    "        joblib.dump(model, model_path)\n",
    "        \n",
    "        return model_path\n",
    "    \n",
    "        \n",
    "        "
   ]
  },
  {
   "cell_type": "code",
   "execution_count": 17,
   "metadata": {},
   "outputs": [
    {
     "name": "stdout",
     "output_type": "stream",
     "text": [
      "[2024-04-22 15:41:50,992]- Lung_Cancer.logging - INFO - yaml file: config/config.yaml loaded successfully\n",
      "[2024-04-22 15:41:50,994]- Lung_Cancer.logging - INFO - yaml file: params.yaml loaded successfully\n",
      "[2024-04-22 15:41:50,996]- Lung_Cancer.logging - INFO - yaml file: schema.yaml loaded successfully\n",
      "[2024-04-22 15:41:50,997]- Lung_Cancer.logging - INFO - created directory at: artifacts\n",
      "[2024-04-22 15:41:50,998]- Lung_Cancer.logging - INFO - created directory at: artifacts/model_training\n",
      "Model trained successfully and saved at  artifacts/model_training/model.joblib\n"
     ]
    }
   ],
   "source": [
    "\n",
    "try:\n",
    "    config_manager = ConfigurationManager()\n",
    "    config = config_manager\n",
    "    model_trainer = ModelTrainer(config)\n",
    "    model = model_trainer.train()\n",
    "    model_path = model_trainer.save_model(model)\n",
    "    print('Model trained successfully and saved at ', model_path)\n",
    "    \n",
    "except Exception as e:\n",
    "    print('Training failed')\n",
    "    print(e)"
   ]
  },
  {
   "cell_type": "code",
   "execution_count": null,
   "metadata": {},
   "outputs": [],
   "source": []
  }
 ],
 "metadata": {
  "kernelspec": {
   "display_name": "test",
   "language": "python",
   "name": "python3"
  },
  "language_info": {
   "codemirror_mode": {
    "name": "ipython",
    "version": 3
   },
   "file_extension": ".py",
   "mimetype": "text/x-python",
   "name": "python",
   "nbconvert_exporter": "python",
   "pygments_lexer": "ipython3",
   "version": "3.12.2"
  }
 },
 "nbformat": 4,
 "nbformat_minor": 2
}
